{
 "cells": [
  {
   "cell_type": "code",
   "execution_count": null,
   "id": "966b3fb7",
   "metadata": {},
   "outputs": [],
   "source": [
    "#Find PDF and Video\n",
    "\n",
    "import os\n",
    "import os, glob\n",
    "import pandas as pd\n",
    "from pandas import DataFrame\n",
    "\n",
    "df1 = []\n",
    "df2 = []\n",
    "pdfpath = []\n",
    "pdffilename = []\n",
    "videopath = []\n",
    "videoname = []\n",
    "df_pdf = []\n",
    "df_video = []\n",
    "\n",
    "WorkOrder = range(17,18)\n",
    "parentFolder = r\"\\\\c1entchsypccls1\\wwovid_archr1\\WW 5200-02\\000 To be Reviewed\"\n",
    "\n",
    "for i in WorkOrder:\n",
    "    \n",
    "    rootdir = parentFolder + \"\\Work Order \" + str(i)\n",
    "    for subdir, dirs, files in os.walk(rootdir):\n",
    "        for file in files:\n",
    "            if file.endswith(\".pdf\"):\n",
    "                pdffilename.append(file.split(\".\")[0])\n",
    "                pdfpath.append(subdir)\n",
    "                df1 = pd.DataFrame({'Contract':'5200-02','WO':i,'PDF_Name':pdffilename,'PDF_Path':pdfpath})\n",
    "                df_pdf.append(df1)\n",
    "                \n",
    "            elif file.endswith((\".mp4\",\".wmv\",\".avi\",\".flv\")):\n",
    "                videoname.append(file.split(\".\")[0])\n",
    "                videopath.append(subdir)\n",
    "                df2 = pd.DataFrame({'Contract':'5200-02','WO':i,'Video_Name':videoname,'Video_Path':videopath})\n",
    "                df_video.append(df2)\n",
    "                  \n",
    "            else:\n",
    "                pass\n",
    "\n",
    "df_pdf = pd.concat(df_pdf).drop_duplicates().reset_index(drop=True)\n",
    "df_video = pd.concat(df_video).drop_duplicates().reset_index(drop=True)\n",
    "\n",
    "\n",
    "df_video.to_csv(r'H:\\Brian\\Python Script\\ETC_CD_Archive\\5200-02_WO14-69\\PDF_Video Check\\5200-02_WO17_Video.csv')\n",
    "df_pdf.to_csv(r'H:\\Brian\\Python Script\\ETC_CD_Archive\\5200-02_WO14-69\\PDF_Video Check\\5200-02_WO17_PDF.csv')\n",
    "\n",
    "\n",
    "\n",
    "#df = pd.DataFrame(\n",
    "    #{'PDF_Name':pdffilename,'Video_Name':videoname})\n",
    "\n",
    "#df.to_csv(r'H:\\Brian\\Python Script\\ETC_CD_Archive\\4277-104\\SubmittalAudit\\4277-104-PDF&Video_Audit.csv')"
   ]
  },
  {
   "cell_type": "code",
   "execution_count": null,
   "id": "f4272ca6",
   "metadata": {},
   "outputs": [],
   "source": [
    "#Match CTV_Submitted result and pdf/video result\n",
    "\n",
    "df_dir = pd.read_csv(r'H:\\Brian\\Python Script\\ETC_CD_Archive\\4277-109\\SubmittalAudit\\AuditSubmittal_4277-109-Work Order 7.csv')\n",
    "df_file = pd.read_csv(r'H:\\Brian\\Python Script\\ETC_CD_Archive\\4277-109\\SubmittalAudit\\4277-109-PDF&Video_Audit_WO-7.csv')\n",
    "\n",
    "\n",
    "df_dir['Find_PDF'] = df_dir.UPS_DNS.isin(df_file.PDF_Name)\n",
    "df_dir['Find_Video'] = df_dir.UPS_DNS.isin(df_file.Video_Name)\n",
    "\n",
    "df_dir.to_csv(r'H:\\Brian\\Python Script\\ETC_CD_Archive\\4277-109\\SubmittalAudit\\AuditFinal\\AuditFinal_4277-109-Work Order 7.csv')"
   ]
  }
 ],
 "metadata": {
  "kernelspec": {
   "display_name": "Python 3",
   "language": "python",
   "name": "python3"
  },
  "language_info": {
   "codemirror_mode": {
    "name": "ipython",
    "version": 3
   },
   "file_extension": ".py",
   "mimetype": "text/x-python",
   "name": "python",
   "nbconvert_exporter": "python",
   "pygments_lexer": "ipython3",
   "version": "3.8.8"
  }
 },
 "nbformat": 4,
 "nbformat_minor": 5
}
