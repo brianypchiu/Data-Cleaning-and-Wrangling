{
 "cells": [
  {
   "cell_type": "code",
   "execution_count": null,
   "id": "594085c9",
   "metadata": {},
   "outputs": [],
   "source": [
    "#List all the submitted folders, \n",
    "import os\n",
    "import os, glob\n",
    "import pandas as pd\n",
    "from pandas import DataFrame\n",
    "\n",
    "WorkOrder = range(1)\n",
    "parentFolder = r\"\\\\c1entchsypccls1\\wwovid_archr1\\WW 5200-02\"\n",
    "df_folderlist = []\n",
    "\n",
    "for i in WorkOrder:\n",
    "    submittedfolder = os.listdir(parentFolder + \"\\Work Order \" + str(i) +r\"\\Mainline\")\n",
    "    #print(submittedfolder)\n",
    "    df = pd.DataFrame({'Contract':'4277-104','WO':i,'CTV_Submitted':submittedfolder})\n",
    "    df_folderlist.append(df)\n",
    "\n",
    "df_folderlist = pd.concat(df_folderlist)\n",
    "df_folderlist.to_csv(r'H:\\Brian\\Python Script\\ETC_CD_Archive\\4277-104\\SubmittalAudit\\Folders_4277-104.csv')"
   ]
  },
  {
   "cell_type": "code",
   "execution_count": null,
   "id": "0c915681",
   "metadata": {},
   "outputs": [],
   "source": []
  }
 ],
 "metadata": {
  "kernelspec": {
   "display_name": "Python 3",
   "language": "python",
   "name": "python3"
  },
  "language_info": {
   "codemirror_mode": {
    "name": "ipython",
    "version": 3
   },
   "file_extension": ".py",
   "mimetype": "text/x-python",
   "name": "python",
   "nbconvert_exporter": "python",
   "pygments_lexer": "ipython3",
   "version": "3.8.8"
  }
 },
 "nbformat": 4,
 "nbformat_minor": 5
}
