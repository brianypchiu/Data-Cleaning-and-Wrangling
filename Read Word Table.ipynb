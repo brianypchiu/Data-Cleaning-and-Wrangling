{
 "cells": [
  {
   "cell_type": "code",
   "execution_count": null,
   "id": "ae4bd3bf",
   "metadata": {},
   "outputs": [],
   "source": [
    "#Read tables with one header from word doc, drop the last row and save csv file   \n",
    "import glob\n",
    "import pandas as pd\n",
    "from docx import Document\n",
    "\n",
    "BasinWorkOrder = {\" SB082\":26}\n",
    "\n",
    "parentFolder = r\"H:\\CSO Work Orders\\Work Order Word Documents\\CTV Work Orders\\4277-100\"\n",
    "extensionDoc = r\"\\\\**\\\\*.docx*\"\n",
    "docxfilepath = glob.glob(parentFolder + extensionDoc, recursive=True)\n",
    "          \n",
    "\n",
    "def read_docs_table(docxfilepath,table_num=1,nheader=1):\n",
    "    \n",
    "    #for basin, WorkOrderNumber in BasinWorkOrder.items():\n",
    "        #filepath = parentFolder\n",
    "    #r\"\\WO \" + str(WorkOrderNumber) + basin\n",
    "    #print(filepath)\n",
    "    docxfilepath = glob.glob(parentFolder + extensionDoc, recursive=True)\n",
    "    print(docxfilepath)\n",
    "    \n",
    "    document = Document(r'docxfilepath')\n",
    "    table = document.tables[table_num-1]\n",
    "    data = [[cell.text for cell in row.cells] for row in table.rows]\n",
    "    df = pd.DataFrame(data)\n",
    "    \n",
    "    if nheader == 1:\n",
    "        df = df.rename(columns=df.iloc[0]).drop(df.index[0]).reset_index(drop=True)\n",
    "        df.drop(df.tail(1).index,inplace=True) #Drop last row\n",
    "    \n",
    "    df.to_csv(r'H:\\Brian\\Python Script\\IssuedWO_tobedeleted.csv')\n",
    "    return df\n",
    "    \n",
    "read_docs_table(docxfilepath)\n"
   ]
  }
 ],
 "metadata": {
  "kernelspec": {
   "display_name": "Python 3",
   "language": "python",
   "name": "python3"
  },
  "language_info": {
   "codemirror_mode": {
    "name": "ipython",
    "version": 3
   },
   "file_extension": ".py",
   "mimetype": "text/x-python",
   "name": "python",
   "nbconvert_exporter": "python",
   "pygments_lexer": "ipython3",
   "version": "3.8.8"
  }
 },
 "nbformat": 4,
 "nbformat_minor": 5
}
